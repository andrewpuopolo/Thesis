{
 "cells": [
  {
   "cell_type": "code",
   "execution_count": 1,
   "metadata": {
    "collapsed": true
   },
   "outputs": [],
   "source": [
    "%matplotlib inline\n",
    "import numpy as np\n",
    "import scipy as sp\n",
    "import matplotlib as mpl\n",
    "import matplotlib.cm as cm\n",
    "import matplotlib.pyplot as plt\n",
    "import pandas as pd\n",
    "import time\n",
    "pd.set_option('display.width', 500)\n",
    "pd.set_option('display.max_columns', 100)\n",
    "pd.set_option('display.notebook_repr_html', True)\n",
    "import seaborn as sns\n",
    "sns.set_style(\"whitegrid\")\n",
    "sns.set_context(\"poster\")\n",
    "import requests\n",
    "from bs4 import BeautifulSoup\n",
    "from urllib.request import urlopen as uReq\n",
    "from bs4 import BeautifulSoup as soup\n",
    "import datetime as dt"
   ]
  },
  {
   "cell_type": "code",
   "execution_count": null,
   "metadata": {
    "collapsed": true
   },
   "outputs": [],
   "source": [
    "'Mansfield Town', 'Cambridge United',\n",
    "       'Colchester United', 'Cardiff City', 'Oxford United',\n",
    "       'Derby County', 'Darlington', 'Barnsley', 'Walsall',\n",
    "       'Hereford United', 'Hartlepool United', 'Crystal Palace', \n",
    "       'Notts County', 'Charlton Athletic', \n",
    "       'Stoke City', 'Sheffield United', 'Wigan Athletic', 'Southampton',, 'Bury', 'Wolverhampton Wanderers', 'Wrexham', 'Burnley',\n",
    "       'Bradford City', 'Brentford', 'Newcastle United', 'Carlisle United',\n",
    "       'Preston North End', 'Chester', 'West Ham United', 'Bristol Rovers',\n",
    "       'Oldham Athletic', 'York City', 'Huddersfield Town', 'Gillingham',\n",
    ", 'Arsenal', 'Luton Town', 'Plymouth Argyle',\n",
    "       'Grimsby Town', 'Aston Villa', 'Southend United', 'Norwich City', 'Portsmouth', 'Wimbledon',\n",
    "       'Peterborough United', 'Leeds United', 'Ipswich Town', 'Everton',\n",
    "       'Coventry City', 'Nottingham Forest', 'Sheffield Wednesday',\n",
    "       'Swindon Town', 'Queens Park Rangers', 'Blackburn Rovers',\n",
    "       'Manchester United', 'Reading', 'Doncaster Rovers', 'Middlesbrough',\n",
    "       'Torquay United', 'Tranmere Rovers', 'Hull City', 'Sunderland',\n",
    "       'West Bromwich Albion', 'Fulham', 'Lincoln City', 'Exeter City',\n",
    "       'Shrewsbury Town', 'Crewe Alexandra', 'Swansea City',\n",
    "       'Scunthorpe United', 'Chesterfield', 'Rochdale', 'Rotherham United',\n",
    "       'Bolton Wanderers', 'Bristol City', 'Watford',\n",
    "       'Brighton & Hove Albion', 'Scarborough', 'Leyton Orient',\n",
    "       'Wycombe Wanderers', 'Port Vale', 'Stockport County',\n",
    "       'AFC Bournemouth', 'Blackpool', 'Millwall', 'Birmingham City',\n",
    "       'Northampton Town', 'Macclesfield', 'Halifax Town', 'Cheltenham',\n",
    "       'Kidderminster Harriers', 'Rushden & Diamonds', 'Boston United',\n",
    "       'Yeovil', 'Accrington', 'Morecambe', 'Dagenham and Redbridge',\n",
    "       'Aldershot', 'Burton Albion', 'Stevenage Borough', 'AFC Wimbledon',\n",
    "       'Crawley Town', 'Fleetwood Town', 'Newport County'"
   ]
  },
  {
   "cell_type": "code",
   "execution_count": 8,
   "metadata": {},
   "outputs": [
    {
     "ename": "SyntaxError",
     "evalue": "unexpected EOF while parsing (<ipython-input-8-ad32835cf428>, line 10)",
     "output_type": "error",
     "traceback": [
      "\u001b[0;36m  File \u001b[0;32m\"<ipython-input-8-ad32835cf428>\"\u001b[0;36m, line \u001b[0;32m10\u001b[0m\n\u001b[0;31m    ]\u001b[0m\n\u001b[0m     ^\u001b[0m\n\u001b[0;31mSyntaxError\u001b[0m\u001b[0;31m:\u001b[0m unexpected EOF while parsing\n"
     ]
    }
   ],
   "source": [
    "rows=[]\n",
    "links=[['Leicester City', \"https://www.transfermarkt.com/leicester-city/alletransfers/verein/1003\"],\n",
    "      ['Liverpool', 'https://www.transfermarkt.com/fc-liverpool/alletransfers/verein/31'], \n",
    "      ['Barnet', 'https://www.transfermarkt.com/fc-barnet/alletransfers/verein/2804'],\n",
    "      ['Manchester City', 'https://www.transfermarkt.com/manchester-city/alletransfers/verein/281'], \n",
    "      ['Chelsea','https://www.transfermarkt.com/fc-chelsea/alletransfers/verein/631'],\n",
    "      ['Tottenham Hotspur', 'https://www.transfermarkt.co.uk/tottenham-hotspur/alletransfers/verein/148'],\n",
    "        ['Manchester United', 'https://www.transfermarkt.co.uk/manchester-united/alletransfers/verein/985'], \n",
    "       ['Arsenal', 'https://www.transfermarkt.co.uk/fc-arsenal/alletransfers/verein/11'\n",
    "      ]\n"
   ]
  },
  {
   "cell_type": "code",
   "execution_count": 4,
   "metadata": {},
   "outputs": [
    {
     "ename": "IndexError",
     "evalue": "list index out of range",
     "output_type": "error",
     "traceback": [
      "\u001b[0;31m---------------------------------------------------------------------------\u001b[0m",
      "\u001b[0;31mIndexError\u001b[0m                                Traceback (most recent call last)",
      "\u001b[0;32m<ipython-input-4-5e9775db6ca5>\u001b[0m in \u001b[0;36m<module>\u001b[0;34m()\u001b[0m\n\u001b[1;32m     25\u001b[0m \u001b[0;34m\u001b[0m\u001b[0m\n\u001b[1;32m     26\u001b[0m \u001b[0;34m\u001b[0m\u001b[0m\n\u001b[0;32m---> 27\u001b[0;31m         \u001b[0mrows\u001b[0m\u001b[0;34m.\u001b[0m\u001b[0mappend\u001b[0m\u001b[0;34m(\u001b[0m\u001b[0;34m[\u001b[0m\u001b[0mlink\u001b[0m\u001b[0;34m[\u001b[0m\u001b[0;36m0\u001b[0m\u001b[0;34m]\u001b[0m\u001b[0;34m,\u001b[0m \u001b[0mseason\u001b[0m\u001b[0;34m,\u001b[0m \u001b[0mArriveDepart\u001b[0m\u001b[0;34m,\u001b[0m \u001b[0mtds\u001b[0m\u001b[0;34m[\u001b[0m\u001b[0;34m-\u001b[0m\u001b[0;36m1\u001b[0m\u001b[0;34m]\u001b[0m\u001b[0;34m.\u001b[0m\u001b[0mtext\u001b[0m\u001b[0;34m]\u001b[0m\u001b[0;34m)\u001b[0m\u001b[0;34m\u001b[0m\u001b[0m\n\u001b[0m",
      "\u001b[0;31mIndexError\u001b[0m: list index out of range"
     ]
    }
   ],
   "source": [
    "\n",
    "for link in links:\n",
    "    headers = {'User-Agent': \n",
    "               'Mozilla/5.0 (X11; Linux x86_64) AppleWebKit/537.36 (KHTML, like Gecko) Chrome/47.0.2526.106 Safari/537.36'}\n",
    "    pageTree = requests.get(link[1], headers=headers)\n",
    "    pageSoup = BeautifulSoup(pageTree.content, 'html.parser')\n",
    "    boxes=pageSoup.find_all(\"div\", {\"class\": \"box\"})\n",
    "    for i in range(4, len(boxes)):\n",
    "        box=boxes[i]\n",
    "        header=box.findAll(\"div\", {\"class\":\"table-header\"})[0]\n",
    "        text=header.text\n",
    "        ArriveDepart=text.split(' ')[0]\n",
    "        ArriveDepart=ArriveDepart.replace('\\r', '')\n",
    "        ArriveDepart=ArriveDepart.replace('\\n', '')\n",
    "        ArriveDepart=ArriveDepart.replace('\\t', '')\n",
    "        Year=text.split(' ')[1]\n",
    "        tds=box.findAll(\"td\")\n",
    "        season=int(Year.split('/')[0])\n",
    "        if(season==91):\n",
    "            break\n",
    "        elif(season<50):\n",
    "            season=season+2000\n",
    "        else:\n",
    "            season=season+1900\n",
    "\n",
    "\n",
    "        rows.append([link[0], season, ArriveDepart, tds[-1].text])"
   ]
  },
  {
   "cell_type": "code",
   "execution_count": 7,
   "metadata": {},
   "outputs": [
    {
     "data": {
      "text/plain": [
       "'Departures'"
      ]
     },
     "execution_count": 7,
     "metadata": {},
     "output_type": "execute_result"
    }
   ],
   "source": [
    "ArriveDepart"
   ]
  },
  {
   "cell_type": "code",
   "execution_count": 6,
   "metadata": {
    "collapsed": true
   },
   "outputs": [],
   "source": [
    "headers = {'User-Agent': \n",
    "           'Mozilla/5.0 (X11; Linux x86_64) AppleWebKit/537.36 (KHTML, like Gecko) Chrome/47.0.2526.106 Safari/537.36'}\n",
    "\n",
    "page = \"https://www.transfermarkt.com/leicester-city/alletransfers/verein/1003\"\n",
    "pageTree = requests.get(page, headers=headers)\n",
    "pageSoup = BeautifulSoup(pageTree.content, 'html.parser')\n"
   ]
  },
  {
   "cell_type": "code",
   "execution_count": 111,
   "metadata": {},
   "outputs": [
    {
     "name": "stdout",
     "output_type": "stream",
     "text": [
      "Departures\n",
      "Arrivals\n",
      "Departures\n",
      "Arrivals\n",
      "Departures\n",
      "Arrivals\n",
      "Departures\n",
      "Arrivals\n",
      "Departures\n",
      "Arrivals\n",
      "Departures\n",
      "Arrivals\n",
      "Departures\n",
      "Arrivals\n",
      "Departures\n",
      "Arrivals\n",
      "Departures\n",
      "Arrivals\n",
      "Departures\n",
      "Arrivals\n",
      "Departures\n",
      "Arrivals\n",
      "Departures\n",
      "Arrivals\n",
      "Departures\n",
      "Arrivals\n",
      "Departures\n",
      "Arrivals\n",
      "Departures\n",
      "Arrivals\n",
      "Departures\n",
      "Arrivals\n",
      "Departures\n",
      "Arrivals\n",
      "Departures\n",
      "Arrivals\n",
      "Departures\n",
      "Arrivals\n",
      "Departures\n",
      "Arrivals\n",
      "Departures\n",
      "Arrivals\n",
      "Departures\n",
      "Arrivals\n",
      "Departures\n",
      "Arrivals\n",
      "Departures\n",
      "Arrivals\n",
      "Departures\n",
      "Arrivals\n",
      "Departures\n",
      "Arrivals\n",
      "Departures\n",
      "Arrivals\n"
     ]
    }
   ],
   "source": [
    "boxes=pageSoup.find_all(\"div\", {\"class\": \"box\"})\n",
    "rows=[]\n",
    "for i in range(4, len(boxes)):\n",
    "    box=boxes[i]\n",
    "    header=box.findAll(\"div\", {\"class\":\"table-header\"})[0]\n",
    "    text=header.text\n",
    "    ArriveDepart=text.split(' ')[0]\n",
    "    ArriveDepart=ArriveDepart.replace('\\r', '')\n",
    "    ArriveDepart=ArriveDepart.replace('\\n', '')\n",
    "    ArriveDepart=ArriveDepart.replace('\\t', '')\n",
    "    print(ArriveDepart)\n",
    "    Year=text.split(' ')[1]\n",
    "    tds=box.findAll(\"td\")\n",
    "    season=int(Year.split('/')[0])\n",
    "    if(season==91):\n",
    "        break\n",
    "    elif(season<50):\n",
    "        season=season+2000\n",
    "    else:\n",
    "        season=season+1900\n",
    "\n",
    "\n",
    "    rows.append(['Leicester City', season, ArriveDepart, tds[-1].text])"
   ]
  },
  {
   "cell_type": "code",
   "execution_count": 112,
   "metadata": {},
   "outputs": [
    {
     "data": {
      "text/plain": [
       "[['Leicester City', 2018, 'Departures', '95,80 Mill. €'],\n",
       " ['Leicester City', 2017, 'Arrivals', '87,85 Mill. €'],\n",
       " ['Leicester City', 2017, 'Departures', '47,90 Mill. €'],\n",
       " ['Leicester City', 2016, 'Arrivals', '91,60 Mill. €'],\n",
       " ['Leicester City', 2016, 'Departures', '66,05 Mill. €'],\n",
       " ['Leicester City', 2015, 'Arrivals', '49,90 Mill. €'],\n",
       " ['Leicester City', 2015, 'Departures', '9,45 Mill. €'],\n",
       " ['Leicester City', 2014, 'Arrivals', '22,86 Mill. €'],\n",
       " ['Leicester City', 2014, 'Departures', '0'],\n",
       " ['Leicester City', 2013, 'Arrivals', '500 Th. €'],\n",
       " ['Leicester City', 2013, 'Departures', '1,15 Mill. €'],\n",
       " ['Leicester City', 2012, 'Arrivals', '5,87 Mill. €'],\n",
       " ['Leicester City', 2012, 'Departures', '4,15 Mill. €'],\n",
       " ['Leicester City', 2011, 'Arrivals', '17,95 Mill. €'],\n",
       " ['Leicester City', 2011, 'Departures', '1,25 Mill. €'],\n",
       " ['Leicester City', 2010, 'Arrivals', '5,49 Mill. €'],\n",
       " ['Leicester City', 2010, 'Departures', '2,99 Mill. €'],\n",
       " ['Leicester City', 2009, 'Arrivals', '2,01 Mill. €'],\n",
       " ['Leicester City', 2009, 'Departures', '1,20 Mill. €'],\n",
       " ['Leicester City', 2008, 'Arrivals', '1,17 Mill. €'],\n",
       " ['Leicester City', 2008, 'Departures', '5,03 Mill. €'],\n",
       " ['Leicester City', 2007, 'Arrivals', '8,65 Mill. €'],\n",
       " ['Leicester City', 2007, 'Departures', '1,41 Mill. €'],\n",
       " ['Leicester City', 2006, 'Arrivals', '0'],\n",
       " ['Leicester City', 2006, 'Departures', '1,84 Mill. €'],\n",
       " ['Leicester City', 2005, 'Arrivals', '1,60 Mill. €'],\n",
       " ['Leicester City', 2005, 'Departures', '3,43 Mill. €'],\n",
       " ['Leicester City', 2004, 'Arrivals', '2,18 Mill. €'],\n",
       " ['Leicester City', 2004, 'Departures', '1,92 Mill. €'],\n",
       " ['Leicester City', 2003, 'Arrivals', '1,14 Mill. €'],\n",
       " ['Leicester City', 2003, 'Departures', '0'],\n",
       " ['Leicester City', 2002, 'Arrivals', '0'],\n",
       " ['Leicester City', 2002, 'Departures', '13,50 Mill. €'],\n",
       " ['Leicester City', 2001, 'Arrivals', '18,10 Mill. €'],\n",
       " ['Leicester City', 2001, 'Departures', '3,03 Mill. €'],\n",
       " ['Leicester City', 2000, 'Arrivals', '11,75 Mill. €'],\n",
       " ['Leicester City', 2000, 'Departures', '9,70 Mill. €'],\n",
       " ['Leicester City', 1999, 'Arrivals', '6,30 Mill. €'],\n",
       " ['Leicester City', 1999, 'Departures', '16,58 Mill. €'],\n",
       " ['Leicester City', 1998, 'Arrivals', '8,90 Mill. €'],\n",
       " ['Leicester City', 1998, 'Departures', '0'],\n",
       " ['Leicester City', 1997, 'Arrivals', '2,55 Mill. €'],\n",
       " ['Leicester City', 1997, 'Departures', '1,28 Mill. €'],\n",
       " ['Leicester City', 1996, 'Arrivals', '7,05 Mill. €'],\n",
       " ['Leicester City', 1996, 'Departures', '3,80 Mill. €'],\n",
       " ['Leicester City', 1995, 'Arrivals', '6,01 Mill. €'],\n",
       " ['Leicester City', 1995, 'Departures', '5,51 Mill. €'],\n",
       " ['Leicester City', 1994, 'Arrivals', '4,15 Mill. €'],\n",
       " ['Leicester City', 1994, 'Departures', '1,29 Mill. €'],\n",
       " ['Leicester City', 1993, 'Arrivals', '1,11 Mill. €'],\n",
       " ['Leicester City', 1993, 'Departures', '0'],\n",
       " ['Leicester City', 1992, 'Arrivals', '1,18 Mill. €'],\n",
       " ['Leicester City', 1992, 'Departures', '910 Th. €']]"
      ]
     },
     "execution_count": 112,
     "metadata": {},
     "output_type": "execute_result"
    }
   ],
   "source": [
    "rows"
   ]
  },
  {
   "cell_type": "code",
   "execution_count": 74,
   "metadata": {
    "collapsed": true
   },
   "outputs": [],
   "source": [
    "header=boxes[i].findAll(\"div\", {\"class\":\"table-header\"})[0]"
   ]
  },
  {
   "cell_type": "code",
   "execution_count": 87,
   "metadata": {},
   "outputs": [
    {
     "data": {
      "text/plain": [
       "'\\r\\nArrivals'"
      ]
     },
     "execution_count": 87,
     "metadata": {},
     "output_type": "execute_result"
    }
   ],
   "source": [
    "ArriveDepart.replace('\\r', '')\n",
    "ArriveDepart.replace('\\n', '')\n",
    "ArriveDepart.replace('\\t', '')"
   ]
  },
  {
   "cell_type": "code",
   "execution_count": null,
   "metadata": {
    "collapsed": true
   },
   "outputs": [],
   "source": []
  }
 ],
 "metadata": {
  "kernelspec": {
   "display_name": "Python 3",
   "language": "python",
   "name": "python3"
  },
  "language_info": {
   "codemirror_mode": {
    "name": "ipython",
    "version": 3
   },
   "file_extension": ".py",
   "mimetype": "text/x-python",
   "name": "python",
   "nbconvert_exporter": "python",
   "pygments_lexer": "ipython3",
   "version": "3.6.1"
  }
 },
 "nbformat": 4,
 "nbformat_minor": 2
}
